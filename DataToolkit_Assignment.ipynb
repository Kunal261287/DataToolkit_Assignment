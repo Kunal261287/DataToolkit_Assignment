{
 "cells": [
  {
   "cell_type": "markdown",
   "id": "94c45753-a6b8-447e-b9ec-95da4eda9de3",
   "metadata": {},
   "source": [
    "1. What is NumPy, and why is it widely used in Python?\n",
    "   --> NumPy (Numerical Python) is a fundamental library for scientific computing in Python. It provides support for:\n",
    "    Multidimensional Arrays\n",
    "    Core feature: the ndarray object, an efficient multidimensional array.\n",
    "    Arrays in NumPy are more powerful and memory-efficient than Python lists.\n",
    "    Mathematical Operations\n",
    "    NumPy supports a vast collection of mathematical operations on arrays: element-wise arithmetic, linear algebra, statistical operations,\n",
    "    Fourier transforms, etc.\n",
    "    Performance NumPy operations are implemented in C, making them much faster than equivalent Python code using native lists or loops.\n",
    "    It leverages vectorization, reducing the need for explicit loops.\n",
    "    Integration Interoperates with other libraries like Pandas, SciPy, Matplotlib, and Scikit-learn.\n",
    "    Can interface with C/C++ and Fortran code.\n",
    "    Ease of Use Simplifies coding with concise and readable syntax for complex operations.\n",
    "    Why It’s Widely Used:\n",
    "   Foundation for Data Science: It’s the backbone for many libraries in the Python data ecosystem.\n",
    "    Efficient Numerical Computations: Crucial for tasks in data analysis, machine learning, image processing, etc.\n",
    "    Community and Documentation: Large user base and extensive documentation/tutorials."
   ]
  },
  {
   "cell_type": "markdown",
   "id": "78622c62-1a8d-4a20-a088-1a68b5d19229",
   "metadata": {},
   "source": [
    "2. How does broadcasting work in NumPy?\n",
    "   --> Broadcasting in NumPy is a powerful mechanism that allows operations between arrays of different shapes, without explicitly copying data.\n",
    "       It follows specific rules to stretch smaller arrays so they behave like larger ones during operations."
   ]
  },
  {
   "cell_type": "markdown",
   "id": "46f18ddd-60b4-436f-8651-b60e6c39b17a",
   "metadata": {},
   "source": [
    "3.  What is a Pandas DataFrame?\n",
    "   --> A Pandas DataFrame is a two-dimensional, labeled data structure in Python, similar to a table in a database or an Excel spreadsheet.\n",
    "        It is part of the Pandas library, which is widely used for data analysis and manipulation."
   ]
  },
  {
   "cell_type": "markdown",
   "id": "8ca1bffe-d4cd-42a5-845e-2ebf63773ea7",
   "metadata": {},
   "source": [
    "4. Explain the use of the groupby() method in Pandas.\n",
    "   --> The groupby() method in Pandas is used to split data into groups based on some criteria, apply a function to each group, and combine the results.\n",
    "This is known as the “split-apply-combine” strategy and is extremely useful for data summarization, aggregation, and transformation."
   ]
  },
  {
   "cell_type": "markdown",
   "id": "cce994b9-4151-4502-8af8-21d70226c9b3",
   "metadata": {},
   "source": [
    "5. Why is Seaborn preferred for statistical visualizations?\n",
    "   --> Seaborn is preferred for statistical visualizations in Python because it builds on Matplotlib to provide a higher-level, more user-friendly interface with built-in support for complex plots and statistical insights."
   ]
  },
  {
   "cell_type": "markdown",
   "id": "ec1d3c80-01e4-4dec-927a-44920c869ce2",
   "metadata": {},
   "source": [
    "6. What are the differences between NumPy arrays and Python lists?\n",
    "   --> NumPy arrays and Python lists may seem similar on the surface, but they have important differences in performance, functionality, and use cases—especially in scientific and numerical computing.\n",
    "\n",
    "   Use NumPy arrays for high-performance numerical computing with large datasets.\n",
    "   Use Python lists for general-purpose, small-scale tasks with mixed data types."
   ]
  },
  {
   "cell_type": "markdown",
   "id": "067f9d00-4c1b-45f3-be93-83d151570c07",
   "metadata": {},
   "source": [
    "7. What is a heatmap, and when should it be used?\n",
    "   --> A heatmap is a data visualization technique that uses color gradients to represent values in a matrix or 2D dataset. It’s an effective way to highlight patterns, trends, or correlations in complex data.\n",
    "\n",
    "   It displays numerical values using color shades.\n",
    "    Each cell in the grid corresponds to a data value, and the color intensity represents the magnitude.\n",
    "    Often used to visualize correlation matrices, confusion matrices, or frequency tables."
   ]
  },
  {
   "cell_type": "markdown",
   "id": "12ca3b95-acdd-4a2e-ae57-353e4a3d6088",
   "metadata": {},
   "source": [
    "8. What does the term “vectorized operation” mean in NumPy?\n",
    "   --> In NumPy, a vectorized operation refers to performing operations on entire arrays (vectors, matrices) without using explicit loops in Python. These operations are fast, concise, and implemented in optimized C code under the hood."
   ]
  },
  {
   "cell_type": "markdown",
   "id": "54848ae7-3ee1-4cf1-bfdd-ee0765e206a9",
   "metadata": {},
   "source": [
    "9.  How does Matplotlib differ from Plotly?\n",
    "    --> Matplotlib and Plotly are both powerful Python libraries for data visualization, but they differ significantly in style, interactivity, and use cases.\n",
    "\n",
    "     Matplotlib: Best for\n",
    "    Static plots for papers, reports, PDFs\n",
    "    Fine-grained control of every visual element\n",
    "    Custom scientific plots with complex annotations\n",
    "    Low-level plotting for experienced users\n",
    "\n",
    "    Plotly: Best for\n",
    "    Interactive dashboards and web apps\n",
    "    Presentations and visual storytelling\n",
    "    Business and data exploration tools\n",
    "    Visualizing complex/high-dimensional data interactively"
   ]
  },
  {
   "cell_type": "markdown",
   "id": "0bf5af6b-9f95-4cac-8d49-617e35624275",
   "metadata": {},
   "source": [
    "10. What is the significance of hierarchical indexing in Pandas?\n",
    "    --> Hierarchical indexing (also called MultiIndexing) in Pandas allows you to work with higher-dimensional data in a 2D DataFrame by using\n",
    "        multiple index levels (on rows, columns, or both)."
   ]
  },
  {
   "cell_type": "markdown",
   "id": "d9b6f108-c2cb-4c2e-85c3-38aa27b52aa2",
   "metadata": {},
   "source": [
    "11. What is the role of Seaborn’s pairplot() function?\n",
    "    --> The pairplot() function in Seaborn is a powerful tool for visualizing relationships between multiple variables in a dataset. It creates a grid of scatterplots and histograms (or other types of plots) that help you understand pairwise relationships and distributions across multiple variables simultaneously."
   ]
  },
  {
   "cell_type": "markdown",
   "id": "0aa79cad-fac0-4fa2-b89b-d2ee1a77e360",
   "metadata": {},
   "source": [
    "12. What is the purpose of the describe() function in Pandas?\n",
    "    --> The describe() function in Pandas is used to generate descriptive statistics of a DataFrame or Series, providing a quick summary of the central tendency, spread, and shape of the data."
   ]
  },
  {
   "cell_type": "markdown",
   "id": "8770d282-8725-4ae0-aebc-666720e9fb80",
   "metadata": {},
   "source": [
    "13. Why is handling missing data important in Pandas?\n",
    "    --> Handling missing data is crucial in Pandas (and in data analysis in general) because incomplete or missing values can lead to incorrect analysis, biased results, and impaired model performance. Missing data is a common issue in real-world datasets, and knowing how to handle it properly can significantly affect the quality of your insights and models."
   ]
  },
  {
   "cell_type": "markdown",
   "id": "61be4b46-1073-494a-81ff-b410fbd86e9b",
   "metadata": {},
   "source": [
    "14.  What are the benefits of using Plotly for data visualization?\n",
    "     --> Plotly is a powerful, interactive, and versatile data visualization library that provides numerous benefits for creating engaging\n",
    "         and informative visualizations."
   ]
  },
  {
   "cell_type": "markdown",
   "id": "cabb711a-9892-4a2f-b580-103236242288",
   "metadata": {},
   "source": [
    "15. How does NumPy handle multidimensional arrays?\n",
    "    --> NumPy handles multidimensional arrays through its powerful ndarray (n-dimensional array) object. This allows NumPy to efficiently manage and manipulate arrays of any dimensionality (1D, 2D, 3D, etc.) using its optimized C-based library. Below is an overview of how NumPy handles multidimensional arrays, including their creation, indexing, slicing, reshaping, and broadcasting."
   ]
  },
  {
   "cell_type": "markdown",
   "id": "80f457ed-94b5-4daa-ad78-038462e61911",
   "metadata": {},
   "source": [
    "16. What is the role of Bokeh in data visualization?\n",
    "    --> Bokeh is a powerful and interactive data visualization library in Python designed for creating high-quality, interactive plots and dashboards for web-based applications. Its primary strength lies in the ability to generate rich visualizations that are interactive, highly customizable, and capable of handling large datasets efficiently."
   ]
  },
  {
   "cell_type": "markdown",
   "id": "326a579b-c927-4ecc-95b1-934fa3290cd9",
   "metadata": {},
   "source": [
    "17. Explain the difference between apply() and map() in Pandas.\n",
    "    --> In Pandas, both apply() and map() are used to perform element-wise operations on data, but they differ in terms of the flexibility, the scope of operations they can handle, and the types of data they work with. Here's a detailed comparison of the two:\n",
    "\n",
    "1. map():\n",
    "The map() function is primarily used to apply a function to a Series (single-column of a DataFrame). It is typically used for transforming or mapping the values of a Series using a dictionary, a function, or a Series.\n",
    "\n",
    "Key Features of map():\n",
    "Works on a Series: It is designed to operate on a single column (a Series), not an entire DataFrame.\n",
    "\n",
    "Element-wise transformation: The transformation is applied element by element.\n",
    "\n",
    "Accepts various inputs: It can accept a dictionary, a function, or another Series to map the values.\n",
    "\n",
    "2. apply():\n",
    "The apply() function is more flexible and can be used on both Series and DataFrames. It is used to apply a function along a specified axis (rows or columns) of a DataFrame or to a Series.\n",
    "\n",
    "Key Features of apply():\n",
    "Works on both Series and DataFrame: apply() can be used on a Series (just like map()), but it can also be applied to DataFrames to operate across rows or columns.\n",
    "\n",
    "Custom functions: It can be used to apply custom functions to data, including more complex operations than those that can be performed with map().\n",
    "\n",
    "Axis specification: When used on a DataFrame, you can specify whether the function should be applied along rows (axis=1) or along columns (axis=0).\n",
    "\n",
    "Can handle more complex operations: apply() allows more flexibility for performing operations that require multiple steps or additional logic."
   ]
  },
  {
   "cell_type": "markdown",
   "id": "d75264bb-2fa3-4220-bb2e-162ee390509f",
   "metadata": {},
   "source": [
    "18. What are some advanced features of NumPy?\n",
    "    --> NumPy is a powerful library in Python for numerical computing, and it comes with a wide range of advanced features that enable efficient operations on large datasets and complex numerical problems."
   ]
  },
  {
   "cell_type": "markdown",
   "id": "1c775fe1-995d-458a-80f3-bc1aa150b5ce",
   "metadata": {},
   "source": [
    "19. How does Pandas simplify time series analysis?\n",
    "    --> Pandas provides powerful and intuitive tools to simplify time series analysis in Python. Time series data, which consists of a sequence of data points indexed by time, can be challenging to manipulate and analyze. However, Pandas offers a variety of features to make working with time series data easier and more efficient."
   ]
  },
  {
   "cell_type": "markdown",
   "id": "3a3f1201-9a2f-43eb-9170-b969c1c4f0d3",
   "metadata": {},
   "source": [
    "20. What is the role of a pivot table in Pandas?\n",
    "    --> A pivot table in Pandas is a powerful and flexible tool used to summarize, aggregate, and transform data into a more readable format. It allows you to reshape your data in such a way that you can easily perform grouping and aggregation operations, which are essential for data analysis. Pivot tables are particularly useful for handling categorical data and performing multi-dimensional analysis."
   ]
  },
  {
   "cell_type": "markdown",
   "id": "8d6c7414-83a2-4a2e-90bd-3b00970cfeec",
   "metadata": {},
   "source": [
    "21. Why is NumPy’s array slicing faster than Python’s list slicing?\n",
    "    --> NumPy's array slicing is faster than Python's list slicing primarily because of the underlying implementation and the design optimizations in NumPy."
   ]
  },
  {
   "cell_type": "markdown",
   "id": "42a16ea7-4d3c-4524-812f-a3580de479c6",
   "metadata": {},
   "source": [
    "22. What are some common use cases for Seaborn?\n",
    "    --> Seaborn is a powerful Python library built on top of Matplotlib, specifically designed for creating attractive, informative, and statistical visualizations. Its built-in functionality for working with Pandas data structures and its focus on statistical plotting make it particularly useful for a variety of use cases. Here are some common use cases for Seaborn:\n",
    "\n",
    "1. Exploratory Data Analysis (EDA)\n",
    "Seaborn is widely used for exploratory data analysis to help quickly visualize patterns, trends, and distributions in a dataset. It simplifies the process of analyzing relationships between variables, checking for outliers, and assessing distributions.\n",
    "\n",
    "Histograms and Density Plots: To visualize the distribution of a single variable.\n",
    "\n",
    "Example: sns.histplot(data['age'])\n",
    "\n",
    "Boxplots: To compare the distribution of a variable across different categories.\n",
    "\n",
    "Example: sns.boxplot(x='gender', y='age', data=data)\n",
    "\n",
    "Pair Plots: To examine relationships between multiple numerical variables."
   ]
  },
  {
   "cell_type": "code",
   "execution_count": null,
   "id": "17b834d1-ec04-4f00-8ee2-f2ab754db053",
   "metadata": {},
   "outputs": [],
   "source": [
    "#Practical Questions:"
   ]
  },
  {
   "cell_type": "code",
   "execution_count": 1,
   "id": "46686fd6-884d-4dfd-b2bd-4dac40f3f8e0",
   "metadata": {},
   "outputs": [
    {
     "name": "stdout",
     "output_type": "stream",
     "text": [
      "[10 26 42]\n"
     ]
    }
   ],
   "source": [
    "#1. How do you create a 2D NumPy array and calculate the sum of each row?\n",
    "\n",
    "import numpy as np\n",
    "\n",
    "# Create a 2D NumPy array\n",
    "my_array = np.array([\n",
    "    [1, 2, 3, 4],\n",
    "    [5, 6, 7, 8],\n",
    "    [9, 10, 11, 12]\n",
    "])\n",
    "# Calculate the sum of each row\n",
    "row_sums = np.sum(my_array, axis=1)\n",
    "\n",
    "# Print the row sums\n",
    "print(row_sums)\n"
   ]
  },
  {
   "cell_type": "code",
   "execution_count": 1,
   "id": "c7098fbe-46e3-4f29-8b89-a3e8df4c0ab2",
   "metadata": {},
   "outputs": [
    {
     "name": "stdout",
     "output_type": "stream",
     "text": [
      "Mean Age: 32.5\n"
     ]
    }
   ],
   "source": [
    "#2. Write a Pandas script to find the mean of a specific column in a DataFrame.\n",
    "\n",
    "import pandas as pd\n",
    "\n",
    "# Create a sample DataFrame\n",
    "data = {\n",
    "    'Name': ['Alice', 'Bob', 'Charlie', 'David'],\n",
    "    'Age': [25, 30, 35, 40]\n",
    "}\n",
    "\n",
    "df = pd.DataFrame(data)\n",
    "\n",
    "# Find the mean of the 'Age' column\n",
    "mean_age = df['Age'].mean()\n",
    "\n",
    "print(\"Mean Age:\", mean_age)\n"
   ]
  },
  {
   "cell_type": "code",
   "execution_count": 2,
   "id": "79d39bee-4725-4b76-8e54-311b5a1e64f2",
   "metadata": {},
   "outputs": [
    {
     "data": {
      "image/png": "[encoded data removed]",
      "text/plain": [
       "<Figure size 640x480 with 1 Axes>"
      ]
     },
     "metadata": {},
     "output_type": "display_data"
    }
   ],
   "source": [
    "#3. Create a scatter plot using Matplotlib.\n",
    "\n",
    "import matplotlib.pyplot as plt\n",
    "\n",
    "# Sample data\n",
    "x = [10, 20, 30, 40, 50]\n",
    "y = [15, 25, 35, 45, 60]\n",
    "\n",
    "# Create the scatter plot\n",
    "plt.scatter(x, y, color='green', marker='o', label='Data Points')\n",
    "\n",
    "# Add labels and title\n",
    "plt.xlabel('X Values')\n",
    "plt.ylabel('Y Values')\n",
    "plt.title('Simple Scatter Plot')\n",
    "\n",
    "# Show legend\n",
    "plt.legend()\n",
    "\n",
    "# Display the plot\n",
    "plt.show()"
   ]
  },
  {
   "cell_type": "code",
   "execution_count": 3,
   "id": "93ba00bc-8311-438b-a146-9e623510cae3",
   "metadata": {},
   "outputs": [
    {
     "data": {
      "image/png": "[encoded data removed]",
      "text/plain": [
       "<Figure size 800x600 with 2 Axes>"
      ]
     },
     "metadata": {},
     "output_type": "display_data"
    }
   ],
   "source": [
    "#4. How do you calculate the correlation matrix using Seaborn and visualize it with a heatmap.\n",
    "\n",
    "import pandas as pd\n",
    "import seaborn as sns\n",
    "import matplotlib.pyplot as plt\n",
    "\n",
    "# Sample DataFrame\n",
    "data = {\n",
    "    'Math': [90, 85, 78, 92, 88],\n",
    "    'Science': [85, 80, 75, 95, 89],\n",
    "    'English': [78, 75, 80, 72, 74],\n",
    "    'History': [70, 68, 72, 74, 73]\n",
    "}\n",
    "\n",
    "df = pd.DataFrame(data)\n",
    "\n",
    "# Calculate the correlation matrix\n",
    "corr_matrix = df.corr()\n",
    "\n",
    "# Set the size of the figure\n",
    "plt.figure(figsize=(8, 6))\n",
    "\n",
    "# Create a heatmap\n",
    "sns.heatmap(corr_matrix, annot=True, cmap='coolwarm', linewidths=0.5)\n",
    "\n",
    "# Add a title\n",
    "plt.title(\"Correlation Matrix Heatmap\")\n",
    "\n",
    "# Show the plot\n",
    "plt.show()"
   ]
  },
  {
   "cell_type": "code",
   "execution_count": 1,
   "id": "e3463a52-81cb-48c5-9b30-26713a803359",
   "metadata": {},
   "outputs": [
    {
     "data": {
      "application/vnd.plotly.v1+json": {
       "config": {
        "plotlyServerURL": "https://plot.ly"
       },
       "data": [
        {
         "hovertemplate": "Fruit=%{x}<br>Sales=%{y}<extra></extra>",
         "legendgroup": "",
         "marker": {
          "color": "#636efa",
          "pattern": {
           "shape": ""
          }
         },
         "name": "",
         "orientation": "v",
         "showlegend": false,
         "textposition": "auto",
         "type": "bar",
         "x": [
          "Apples",
          "Oranges",
          "Bananas",
          "Grapes"
         ],
         "xaxis": "x",
         "y": {
          "bdata": "MihGPA==",
          "dtype": "i1"
         },
         "yaxis": "y"
        }
       ],
       "layout": {
        "barmode": "relative",
        "legend": {
         "tracegroupgap": 0
        },
        "template": {
         "data": {
          "bar": [
           {
            "error_x": {
             "color": "#2a3f5f"
            },
            "error_y": {
             "color": "#2a3f5f"
            },
            "marker": {
             "line": {
              "color": "#E5ECF6",
              "width": 0.5
             },
             "pattern": {
              "fillmode": "overlay",
              "size": 10,
              "solidity": 0.2
             }
            },
            "type": "bar"
           }
          ],
          "barpolar": [
           {
            "marker": {
             "line": {
              "color": "#E5ECF6",
              "width": 0.5
             },
             "pattern": {
              "fillmode": "overlay",
              "size": 10,
              "solidity": 0.2
             }
            },
            "type": "barpolar"
           }
          ],
          "carpet": [
           {
            "aaxis": {
             "endlinecolor": "#2a3f5f",
             "gridcolor": "white",
             "linecolor": "white",
             "minorgridcolor": "white",
             "startlinecolor": "#2a3f5f"
            },
            "baxis": {
             "endlinecolor": "#2a3f5f",
             "gridcolor": "white",
             "linecolor": "white",
             "minorgridcolor": "white",
             "startlinecolor": "#2a3f5f"
            },
            "type": "carpet"
           }
          ],
          "choropleth": [
           {
            "colorbar": {
             "outlinewidth": 0,
             "ticks": ""
            },
            "type": "choropleth"
           }
          ],
          "contour": [
           {
            "colorbar": {
             "outlinewidth": 0,
             "ticks": ""
            },
            "colorscale": [
             [
              0,
              "#0d0887"
             ],
             [
              0.1111111111111111,
              "#46039f"
             ],
             [
              0.2222222222222222,
              "#7201a8"
             ],
             [
              0.3333333333333333,
              "#9c179e"
             ],
             [
              0.4444444444444444,
              "#bd3786"
             ],
             [
              0.5555555555555556,
              "#d8576b"
             ],
             [
              0.6666666666666666,
              "#ed7953"
             ],
             [
              0.7777777777777778,
              "#fb9f3a"
             ],
             [
              0.8888888888888888,
              "#fdca26"
             ],
             [
              1,
              "#f0f921"
             ]
            ],
            "type": "contour"
           }
          ],
          "contourcarpet": [
           {
            "colorbar": {
             "outlinewidth": 0,
             "ticks": ""
            },
            "type": "contourcarpet"
           }
          ],
          "heatmap": [
           {
            "colorbar": {
             "outlinewidth": 0,
             "ticks": ""
            },
            "colorscale": [
             [
              0,
              "#0d0887"
             ],
             [
              0.1111111111111111,
              "#46039f"
             ],
             [
              0.2222222222222222,
              "#7201a8"
             ],
             [
              0.3333333333333333,
              "#9c179e"
             ],
             [
              0.4444444444444444,
              "#bd3786"
             ],
             [
              0.5555555555555556,
              "#d8576b"
             ],
             [
              0.6666666666666666,
              "#ed7953"
             ],
             [
              0.7777777777777778,
              "#fb9f3a"
             ],
             [
              0.8888888888888888,
              "#fdca26"
             ],
             [
              1,
              "#f0f921"
             ]
            ],
            "type": "heatmap"
           }
          ],
          "histogram": [
           {
            "marker": {
             "pattern": {
              "fillmode": "overlay",
              "size": 10,
              "solidity": 0.2
             }
            },
            "type": "histogram"
           }
          ],
          "histogram2d": [
           {
            "colorbar": {
             "outlinewidth": 0,
             "ticks": ""
            },
            "colorscale": [
             [
              0,
              "#0d0887"
             ],
             [
              0.1111111111111111,
              "#46039f"
             ],
             [
              0.2222222222222222,
              "#7201a8"
             ],
             [
              0.3333333333333333,
              "#9c179e"
             ],
             [
              0.4444444444444444,
              "#bd3786"
             ],
             [
              0.5555555555555556,
              "#d8576b"
             ],
             [
              0.6666666666666666,
              "#ed7953"
             ],
             [
              0.7777777777777778,
              "#fb9f3a"
             ],
             [
              0.8888888888888888,
              "#fdca26"
             ],
             [
              1,
              "#f0f921"
             ]
            ],
            "type": "histogram2d"
           }
          ],
          "histogram2dcontour": [
           {
            "colorbar": {
             "outlinewidth": 0,
             "ticks": ""
            },
            "colorscale": [
             [
              0,
              "#0d0887"
             ],
             [
              0.1111111111111111,
              "#46039f"
             ],
             [
              0.2222222222222222,
              "#7201a8"
             ],
             [
              0.3333333333333333,
              "#9c179e"
             ],
             [
              0.4444444444444444,
              "#bd3786"
             ],
             [
              0.5555555555555556,
              "#d8576b"
             ],
             [
              0.6666666666666666,
              "#ed7953"
             ],
             [
              0.7777777777777778,
              "#fb9f3a"
             ],
             [
              0.8888888888888888,
              "#fdca26"
             ],
             [
              1,
              "#f0f921"
             ]
            ],
            "type": "histogram2dcontour"
           }
          ],
          "mesh3d": [
           {
            "colorbar": {
             "outlinewidth": 0,
             "ticks": ""
            },
            "type": "mesh3d"
           }
          ],
          "parcoords": [
           {
            "line": {
             "colorbar": {
              "outlinewidth": 0,
              "ticks": ""
             }
            },
            "type": "parcoords"
           }
          ],
          "pie": [
           {
            "automargin": true,
            "type": "pie"
           }
          ],
          "scatter": [
           {
            "fillpattern": {
             "fillmode": "overlay",
             "size": 10,
             "solidity": 0.2
            },
            "type": "scatter"
           }
          ],
          "scatter3d": [
           {
            "line": {
             "colorbar": {
              "outlinewidth": 0,
              "ticks": ""
             }
            },
            "marker": {
             "colorbar": {
              "outlinewidth": 0,
              "ticks": ""
             }
            },
            "type": "scatter3d"
           }
          ],
          "scattercarpet": [
           {
            "marker": {
             "colorbar": {
              "outlinewidth": 0,
              "ticks": ""
             }
            },
            "type": "scattercarpet"
           }
          ],
          "scattergeo": [
           {
            "marker": {
             "colorbar": {
              "outlinewidth": 0,
              "ticks": ""
             }
            },
            "type": "scattergeo"
           }
          ],
          "scattergl": [
           {
            "marker": {
             "colorbar": {
              "outlinewidth": 0,
              "ticks": ""
             }
            },
            "type": "scattergl"
           }
          ],
          "scattermap": [
           {
            "marker": {
             "colorbar": {
              "outlinewidth": 0,
              "ticks": ""
             }
            },
            "type": "scattermap"
           }
          ],
          "scattermapbox": [
           {
            "marker": {
             "colorbar": {
              "outlinewidth": 0,
              "ticks": ""
             }
            },
            "type": "scattermapbox"
           }
          ],
          "scatterpolar": [
           {
            "marker": {
             "colorbar": {
              "outlinewidth": 0,
              "ticks": ""
             }
            },
            "type": "scatterpolar"
           }
          ],
          "scatterpolargl": [
           {
            "marker": {
             "colorbar": {
              "outlinewidth": 0,
              "ticks": ""
             }
            },
            "type": "scatterpolargl"
           }
          ],
          "scatterternary": [
           {
            "marker": {
             "colorbar": {
              "outlinewidth": 0,
              "ticks": ""
             }
            },
            "type": "scatterternary"
           }
          ],
          "surface": [
           {
            "colorbar": {
             "outlinewidth": 0,
             "ticks": ""
            },
            "colorscale": [
             [
              0,
              "#0d0887"
             ],
             [
              0.1111111111111111,
              "#46039f"
             ],
             [
              0.2222222222222222,
              "#7201a8"
             ],
             [
              0.3333333333333333,
              "#9c179e"
             ],
             [
              0.4444444444444444,
              "#bd3786"
             ],
             [
              0.5555555555555556,
              "#d8576b"
             ],
             [
              0.6666666666666666,
              "#ed7953"
             ],
             [
              0.7777777777777778,
              "#fb9f3a"
             ],
             [
              0.8888888888888888,
              "#fdca26"
             ],
             [
              1,
              "#f0f921"
             ]
            ],
            "type": "surface"
           }
          ],
          "table": [
           {
            "cells": {
             "fill": {
              "color": "#EBF0F8"
             },
             "line": {
              "color": "white"
             }
            },
            "header": {
             "fill": {
              "color": "#C8D4E3"
             },
             "line": {
              "color": "white"
             }
            },
            "type": "table"
           }
          ]
         },
         "layout": {
          "annotationdefaults": {
           "arrowcolor": "#2a3f5f",
           "arrowhead": 0,
           "arrowwidth": 1
          },
          "autotypenumbers": "strict",
          "coloraxis": {
           "colorbar": {
            "outlinewidth": 0,
            "ticks": ""
           }
          },
          "colorscale": {
           "diverging": [
            [
             0,
             "#8e0152"
            ],
            [
             0.1,
             "#c51b7d"
            ],
            [
             0.2,
             "#de77ae"
            ],
            [
             0.3,
             "#f1b6da"
            ],
            [
             0.4,
             "#fde0ef"
            ],
            [
             0.5,
             "#f7f7f7"
            ],
            [
             0.6,
             "#e6f5d0"
            ],
            [
             0.7,
             "#b8e186"
            ],
            [
             0.8,
             "#7fbc41"
            ],
            [
             0.9,
             "#4d9221"
            ],
            [
             1,
             "#276419"
            ]
           ],
           "sequential": [
            [
             0,
             "#0d0887"
            ],
            [
             0.1111111111111111,
             "#46039f"
            ],
            [
             0.2222222222222222,
             "#7201a8"
            ],
            [
             0.3333333333333333,
             "#9c179e"
            ],
            [
             0.4444444444444444,
             "#bd3786"
            ],
            [
             0.5555555555555556,
             "#d8576b"
            ],
            [
             0.6666666666666666,
             "#ed7953"
            ],
            [
             0.7777777777777778,
             "#fb9f3a"
            ],
            [
             0.8888888888888888,
             "#fdca26"
            ],
            [
             1,
             "#f0f921"
            ]
           ],
           "sequentialminus": [
            [
             0,
             "#0d0887"
            ],
            [
             0.1111111111111111,
             "#46039f"
            ],
            [
             0.2222222222222222,
             "#7201a8"
            ],
            [
             0.3333333333333333,
             "#9c179e"
            ],
            [
             0.4444444444444444,
             "#bd3786"
            ],
            [
             0.5555555555555556,
             "#d8576b"
            ],
            [
             0.6666666666666666,
             "#ed7953"
            ],
            [
             0.7777777777777778,
             "#fb9f3a"
            ],
            [
             0.8888888888888888,
             "#fdca26"
            ],
            [
             1,
             "#f0f921"
            ]
           ]
          },
          "colorway": [
           "#636efa",
           "#EF553B",
           "#00cc96",
           "#ab63fa",
           "#FFA15A",
           "#19d3f3",
           "#FF6692",
           "#B6E880",
           "#FF97FF",
           "#FECB52"
          ],
          "font": {
           "color": "#2a3f5f"
          },
          "geo": {
           "bgcolor": "white",
           "lakecolor": "white",
           "landcolor": "#E5ECF6",
           "showlakes": true,
           "showland": true,
           "subunitcolor": "white"
          },
          "hoverlabel": {
           "align": "left"
          },
          "hovermode": "closest",
          "mapbox": {
           "style": "light"
          },
          "paper_bgcolor": "white",
          "plot_bgcolor": "#E5ECF6",
          "polar": {
           "angularaxis": {
            "gridcolor": "white",
            "linecolor": "white",
            "ticks": ""
           },
           "bgcolor": "#E5ECF6",
           "radialaxis": {
            "gridcolor": "white",
            "linecolor": "white",
            "ticks": ""
           }
          },
          "scene": {
           "xaxis": {
            "backgroundcolor": "#E5ECF6",
            "gridcolor": "white",
            "gridwidth": 2,
            "linecolor": "white",
            "showbackground": true,
            "ticks": "",
            "zerolinecolor": "white"
           },
           "yaxis": {
            "backgroundcolor": "#E5ECF6",
            "gridcolor": "white",
            "gridwidth": 2,
            "linecolor": "white",
            "showbackground": true,
            "ticks": "",
            "zerolinecolor": "white"
           },
           "zaxis": {
            "backgroundcolor": "#E5ECF6",
            "gridcolor": "white",
            "gridwidth": 2,
            "linecolor": "white",
            "showbackground": true,
            "ticks": "",
            "zerolinecolor": "white"
           }
          },
          "shapedefaults": {
           "line": {
            "color": "#2a3f5f"
           }
          },
          "ternary": {
           "aaxis": {
            "gridcolor": "white",
            "linecolor": "white",
            "ticks": ""
           },
           "baxis": {
            "gridcolor": "white",
            "linecolor": "white",
            "ticks": ""
           },
           "bgcolor": "#E5ECF6",
           "caxis": {
            "gridcolor": "white",
            "linecolor": "white",
            "ticks": ""
           }
          },
          "title": {
           "x": 0.05
          },
          "xaxis": {
           "automargin": true,
           "gridcolor": "white",
           "linecolor": "white",
           "ticks": "",
           "title": {
            "standoff": 15
           },
           "zerolinecolor": "white",
           "zerolinewidth": 2
          },
          "yaxis": {
           "automargin": true,
           "gridcolor": "white",
           "linecolor": "white",
           "ticks": "",
           "title": {
            "standoff": 15
           },
           "zerolinecolor": "white",
           "zerolinewidth": 2
          }
         }
        },
        "title": {
         "text": "Fruit Sales"
        },
        "xaxis": {
         "anchor": "y",
         "domain": [
          0,
          1
         ],
         "title": {
          "text": "Fruit"
         }
        },
        "yaxis": {
         "anchor": "x",
         "domain": [
          0,
          1
         ],
         "title": {
          "text": "Sales"
         }
        }
       }
      },
      "image/png": "[encoded data removed]"
     },
     "metadata": {},
     "output_type": "display_data"
    }
   ],
   "source": [
    "#5. Generate a bar plot using Plotly.\n",
    "\n",
    "import plotly.express as px\n",
    "\n",
    "# Sample data\n",
    "data = {\n",
    "    'Fruit': ['Apples', 'Oranges', 'Bananas', 'Grapes'],\n",
    "    'Sales': [50, 40, 70, 60]\n",
    "}\n",
    "\n",
    "# Create a bar plot\n",
    "fig = px.bar(data, x='Fruit', y='Sales', title='Fruit Sales')\n",
    "\n",
    "# Show the plot\n",
    "fig.show()"
   ]
  },
  {
   "cell_type": "code",
   "execution_count": 2,
   "id": "940321fc-b54b-4fa7-a98d-52622152d37e",
   "metadata": {},
   "outputs": [
    {
     "name": "stdout",
     "output_type": "stream",
     "text": [
      "      Name  Salary   Bonus\n",
      "0    Alice   50000  5000.0\n",
      "1      Bob   60000  6000.0\n",
      "2  Charlie   70000  7000.0\n",
      "3    David   80000  8000.0\n"
     ]
    }
   ],
   "source": [
    "#6. Create a DataFrame and add a new column based on an existing column.\n",
    "\n",
    "import pandas as pd\n",
    "\n",
    "# Create a sample DataFrame\n",
    "data = {\n",
    "    'Name': ['Alice', 'Bob', 'Charlie', 'David'],\n",
    "    'Salary': [50000, 60000, 70000, 80000]\n",
    "}\n",
    "\n",
    "df = pd.DataFrame(data)\n",
    "\n",
    "# Add a new column 'Bonus' which is 10% of 'Salary'\n",
    "df['Bonus'] = df['Salary'] * 0.10\n",
    "\n",
    "# Display the updated DataFrame\n",
    "print(df)"
   ]
  },
  {
   "cell_type": "code",
   "execution_count": 3,
   "id": "3c19138f-b311-4349-aa22-5e729d15cdec",
   "metadata": {},
   "outputs": [
    {
     "name": "stdout",
     "output_type": "stream",
     "text": [
      "Array 1: [1 2 3 4]\n",
      "Array 2: [5 6 7 8]\n",
      "Element-wise Multiplication: [ 5 12 21 32]\n"
     ]
    }
   ],
   "source": [
    "#7. Write a program to perform element-wise multiplication of two NumPy arrays.\n",
    "\n",
    "import numpy as np\n",
    "\n",
    "# Create two NumPy arrays\n",
    "array1 = np.array([1, 2, 3, 4])\n",
    "array2 = np.array([5, 6, 7, 8])\n",
    "\n",
    "# Perform element-wise multiplication\n",
    "result = array1 * array2\n",
    "\n",
    "# Display the result\n",
    "print(\"Array 1:\", array1)\n",
    "print(\"Array 2:\", array2)\n",
    "print(\"Element-wise Multiplication:\", result)"
   ]
  },
  {
   "cell_type": "code",
   "execution_count": 4,
   "id": "533b1a12-c5ab-4d7f-b246-7dfc36bbc621",
   "metadata": {},
   "outputs": [
    {
     "data": {
      "image/png": "[encoded data removed]",
      "text/plain": [
       "<Figure size 640x480 with 1 Axes>"
      ]
     },
     "metadata": {},
     "output_type": "display_data"
    }
   ],
   "source": [
    "#8. Create a line plot with multiple lines using Matplotlib.\n",
    "\n",
    "import matplotlib.pyplot as plt\n",
    "\n",
    "# Sample data\n",
    "x = [1, 2, 3, 4, 5]\n",
    "y1 = [2, 4, 6, 8, 10]\n",
    "y2 = [1, 3, 5, 7, 9]\n",
    "\n",
    "# Create the plot\n",
    "plt.plot(x, y1, label='Line 1', color='blue', marker='o')\n",
    "plt.plot(x, y2, label='Line 2', color='green', marker='s')\n",
    "\n",
    "# Add labels and title\n",
    "plt.xlabel('X Axis')\n",
    "plt.ylabel('Y Axis')\n",
    "plt.title('Line Plot with Multiple Lines')\n",
    "\n",
    "# Show legend\n",
    "plt.legend()\n",
    "\n",
    "# Display the plot\n",
    "plt.show()"
   ]
  },
  {
   "cell_type": "code",
   "execution_count": 5,
   "id": "52fe781d-645a-4a54-9e18-bf3777d6e657",
   "metadata": {},
   "outputs": [
    {
     "name": "stdout",
     "output_type": "stream",
     "text": [
      "      Name  Age  Salary\n",
      "2  Charlie   35   70000\n",
      "3    David   40   80000\n"
     ]
    }
   ],
   "source": [
    "#9. Generate a Pandas DataFrame and filter rows where a column value is greater than a threshold.\n",
    "\n",
    "import pandas as pd\n",
    "\n",
    "# Create a sample DataFrame\n",
    "data = {\n",
    "    'Name': ['Alice', 'Bob', 'Charlie', 'David', 'Eva'],\n",
    "    'Age': [25, 30, 35, 40, 22],\n",
    "    'Salary': [50000, 60000, 70000, 80000, 55000]\n",
    "}\n",
    "\n",
    "df = pd.DataFrame(data)\n",
    "\n",
    "# Set a threshold for Salary\n",
    "threshold = 60000\n",
    "\n",
    "# Filter rows where Salary is greater than the threshold\n",
    "filtered_df = df[df['Salary'] > threshold]\n",
    "\n",
    "# Display the filtered DataFrame\n",
    "print(filtered_df)"
   ]
  },
  {
   "cell_type": "code",
   "execution_count": 6,
   "id": "314af974-cdc4-455f-aa21-ffec089c05aa",
   "metadata": {},
   "outputs": [
    {
     "data": {
      "image/png": "[encoded data removed]",
      "text/plain": [
       "<Figure size 640x480 with 1 Axes>"
      ]
     },
     "metadata": {},
     "output_type": "display_data"
    }
   ],
   "source": [
    "#10. Create a histogram using Seaborn to visualize a distribution.\n",
    "\n",
    "import seaborn as sns\n",
    "import matplotlib.pyplot as plt\n",
    "\n",
    "# Sample data (e.g., ages of individuals)\n",
    "data = [23, 45, 56, 67, 45, 23, 25, 46, 23, 54, 30, 60, 71, 50, 25]\n",
    "\n",
    "# Create a Seaborn histogram\n",
    "sns.histplot(data, kde=True, bins=10, color='skyblue', edgecolor='black')\n",
    "\n",
    "# Add labels and title\n",
    "plt.xlabel('Age')\n",
    "plt.ylabel('Frequency')\n",
    "plt.title('Age Distribution')\n",
    "\n",
    "# Show the plot\n",
    "plt.show()"
   ]
  },
  {
   "cell_type": "code",
   "execution_count": 7,
   "id": "24658c6d-7c6c-440c-be34-412942c7f891",
   "metadata": {},
   "outputs": [
    {
     "name": "stdout",
     "output_type": "stream",
     "text": [
      "Matrix 1:\n",
      "[[1 2]\n",
      " [3 4]]\n",
      "\n",
      "Matrix 2:\n",
      "[[5 6]\n",
      " [7 8]]\n",
      "\n",
      "Matrix Multiplication Result:\n",
      "[[19 22]\n",
      " [43 50]]\n"
     ]
    }
   ],
   "source": [
    "#11. Perform matrix multiplication using NumPy.\n",
    "\n",
    "import numpy as np\n",
    "\n",
    "# Define two matrices\n",
    "matrix1 = np.array([[1, 2], [3, 4]])  # 2x2 matrix\n",
    "matrix2 = np.array([[5, 6], [7, 8]])  # 2x2 matrix\n",
    "\n",
    "# Perform matrix multiplication\n",
    "result = np.matmul(matrix1, matrix2)\n",
    "\n",
    "# Print the result\n",
    "print(\"Matrix 1:\")\n",
    "print(matrix1)\n",
    "\n",
    "print(\"\\nMatrix 2:\")\n",
    "print(matrix2)\n",
    "\n",
    "print(\"\\nMatrix Multiplication Result:\")\n",
    "print(result)"
   ]
  },
  {
   "cell_type": "code",
   "execution_count": 8,
   "id": "6bad08ca-9f21-43a5-826e-77172b90c402",
   "metadata": {},
   "outputs": [
    {
     "data": {
      "application/vnd.plotly.v1+json": {
       "config": {
        "plotlyServerURL": "https://plot.ly"
       },
       "data": [
        {
         "hovertemplate": "X=%{x}<br>Y=%{y}<br>Z=%{z}<extra></extra>",
         "legendgroup": "",
         "marker": {
          "color": "#636efa",
          "symbol": "circle"
         },
         "mode": "markers",
         "name": "",
         "scene": "scene",
         "showlegend": false,
         "type": "scatter3d",
         "x": {
          "bdata": "AQIDBAU=",
          "dtype": "i1"
         },
         "y": {
          "bdata": "CgsMDQ4=",
          "dtype": "i1"
         },
         "z": {
          "bdata": "FBUWFxg=",
          "dtype": "i1"
         }
        }
       ],
       "layout": {
        "legend": {
         "tracegroupgap": 0
        },
        "scene": {
         "domain": {
          "x": [
           0,
           1
          ],
          "y": [
           0,
           1
          ]
         },
         "xaxis": {
          "title": {
           "text": "X"
          }
         },
         "yaxis": {
          "title": {
           "text": "Y"
          }
         },
         "zaxis": {
          "title": {
           "text": "Z"
          }
         }
        },
        "template": {
         "data": {
          "bar": [
           {
            "error_x": {
             "color": "#2a3f5f"
            },
            "error_y": {
             "color": "#2a3f5f"
            },
            "marker": {
             "line": {
              "color": "#E5ECF6",
              "width": 0.5
             },
             "pattern": {
              "fillmode": "overlay",
              "size": 10,
              "solidity": 0.2
             }
            },
            "type": "bar"
           }
          ],
          "barpolar": [
           {
            "marker": {
             "line": {
              "color": "#E5ECF6",
              "width": 0.5
             },
             "pattern": {
              "fillmode": "overlay",
              "size": 10,
              "solidity": 0.2
             }
            },
            "type": "barpolar"
           }
          ],
          "carpet": [
           {
            "aaxis": {
             "endlinecolor": "#2a3f5f",
             "gridcolor": "white",
             "linecolor": "white",
             "minorgridcolor": "white",
             "startlinecolor": "#2a3f5f"
            },
            "baxis": {
             "endlinecolor": "#2a3f5f",
             "gridcolor": "white",
             "linecolor": "white",
             "minorgridcolor": "white",
             "startlinecolor": "#2a3f5f"
            },
            "type": "carpet"
           }
          ],
          "choropleth": [
           {
            "colorbar": {
             "outlinewidth": 0,
             "ticks": ""
            },
            "type": "choropleth"
           }
          ],
          "contour": [
           {
            "colorbar": {
             "outlinewidth": 0,
             "ticks": ""
            },
            "colorscale": [
             [
              0,
              "#0d0887"
             ],
             [
              0.1111111111111111,
              "#46039f"
             ],
             [
              0.2222222222222222,
              "#7201a8"
             ],
             [
              0.3333333333333333,
              "#9c179e"
             ],
             [
              0.4444444444444444,
              "#bd3786"
             ],
             [
              0.5555555555555556,
              "#d8576b"
             ],
             [
              0.6666666666666666,
              "#ed7953"
             ],
             [
              0.7777777777777778,
              "#fb9f3a"
             ],
             [
              0.8888888888888888,
              "#fdca26"
             ],
             [
              1,
              "#f0f921"
             ]
            ],
            "type": "contour"
           }
          ],
          "contourcarpet": [
           {
            "colorbar": {
             "outlinewidth": 0,
             "ticks": ""
            },
            "type": "contourcarpet"
           }
          ],
          "heatmap": [
           {
            "colorbar": {
             "outlinewidth": 0,
             "ticks": ""
            },
            "colorscale": [
             [
              0,
              "#0d0887"
             ],
             [
              0.1111111111111111,
              "#46039f"
             ],
             [
              0.2222222222222222,
              "#7201a8"
             ],
             [
              0.3333333333333333,
              "#9c179e"
             ],
             [
              0.4444444444444444,
              "#bd3786"
             ],
             [
              0.5555555555555556,
              "#d8576b"
             ],
             [
              0.6666666666666666,
              "#ed7953"
             ],
             [
              0.7777777777777778,
              "#fb9f3a"
             ],
             [
              0.8888888888888888,
              "#fdca26"
             ],
             [
              1,
              "#f0f921"
             ]
            ],
            "type": "heatmap"
           }
          ],
          "histogram": [
           {
            "marker": {
             "pattern": {
              "fillmode": "overlay",
              "size": 10,
              "solidity": 0.2
             }
            },
            "type": "histogram"
           }
          ],
          "histogram2d": [
           {
            "colorbar": {
             "outlinewidth": 0,
             "ticks": ""
            },
            "colorscale": [
             [
              0,
              "#0d0887"
             ],
             [
              0.1111111111111111,
              "#46039f"
             ],
             [
              0.2222222222222222,
              "#7201a8"
             ],
             [
              0.3333333333333333,
              "#9c179e"
             ],
             [
              0.4444444444444444,
              "#bd3786"
             ],
             [
              0.5555555555555556,
              "#d8576b"
             ],
             [
              0.6666666666666666,
              "#ed7953"
             ],
             [
              0.7777777777777778,
              "#fb9f3a"
             ],
             [
              0.8888888888888888,
              "#fdca26"
             ],
             [
              1,
              "#f0f921"
             ]
            ],
            "type": "histogram2d"
           }
          ],
          "histogram2dcontour": [
           {
            "colorbar": {
             "outlinewidth": 0,
             "ticks": ""
            },
            "colorscale": [
             [
              0,
              "#0d0887"
             ],
             [
              0.1111111111111111,
              "#46039f"
             ],
             [
              0.2222222222222222,
              "#7201a8"
             ],
             [
              0.3333333333333333,
              "#9c179e"
             ],
             [
              0.4444444444444444,
              "#bd3786"
             ],
             [
              0.5555555555555556,
              "#d8576b"
             ],
             [
              0.6666666666666666,
              "#ed7953"
             ],
             [
              0.7777777777777778,
              "#fb9f3a"
             ],
             [
              0.8888888888888888,
              "#fdca26"
             ],
             [
              1,
              "#f0f921"
             ]
            ],
            "type": "histogram2dcontour"
           }
          ],
          "mesh3d": [
           {
            "colorbar": {
             "outlinewidth": 0,
             "ticks": ""
            },
            "type": "mesh3d"
           }
          ],
          "parcoords": [
           {
            "line": {
             "colorbar": {
              "outlinewidth": 0,
              "ticks": ""
             }
            },
            "type": "parcoords"
           }
          ],
          "pie": [
           {
            "automargin": true,
            "type": "pie"
           }
          ],
          "scatter": [
           {
            "fillpattern": {
             "fillmode": "overlay",
             "size": 10,
             "solidity": 0.2
            },
            "type": "scatter"
           }
          ],
          "scatter3d": [
           {
            "line": {
             "colorbar": {
              "outlinewidth": 0,
              "ticks": ""
             }
            },
            "marker": {
             "colorbar": {
              "outlinewidth": 0,
              "ticks": ""
             }
            },
            "type": "scatter3d"
           }
          ],
          "scattercarpet": [
           {
            "marker": {
             "colorbar": {
              "outlinewidth": 0,
              "ticks": ""
             }
            },
            "type": "scattercarpet"
           }
          ],
          "scattergeo": [
           {
            "marker": {
             "colorbar": {
              "outlinewidth": 0,
              "ticks": ""
             }
            },
            "type": "scattergeo"
           }
          ],
          "scattergl": [
           {
            "marker": {
             "colorbar": {
              "outlinewidth": 0,
              "ticks": ""
             }
            },
            "type": "scattergl"
           }
          ],
          "scattermap": [
           {
            "marker": {
             "colorbar": {
              "outlinewidth": 0,
              "ticks": ""
             }
            },
            "type": "scattermap"
           }
          ],
          "scattermapbox": [
           {
            "marker": {
             "colorbar": {
              "outlinewidth": 0,
              "ticks": ""
             }
            },
            "type": "scattermapbox"
           }
          ],
          "scatterpolar": [
           {
            "marker": {
             "colorbar": {
              "outlinewidth": 0,
              "ticks": ""
             }
            },
            "type": "scatterpolar"
           }
          ],
          "scatterpolargl": [
           {
            "marker": {
             "colorbar": {
              "outlinewidth": 0,
              "ticks": ""
             }
            },
            "type": "scatterpolargl"
           }
          ],
          "scatterternary": [
           {
            "marker": {
             "colorbar": {
              "outlinewidth": 0,
              "ticks": ""
             }
            },
            "type": "scatterternary"
           }
          ],
          "surface": [
           {
            "colorbar": {
             "outlinewidth": 0,
             "ticks": ""
            },
            "colorscale": [
             [
              0,
              "#0d0887"
             ],
             [
              0.1111111111111111,
              "#46039f"
             ],
             [
              0.2222222222222222,
              "#7201a8"
             ],
             [
              0.3333333333333333,
              "#9c179e"
             ],
             [
              0.4444444444444444,
              "#bd3786"
             ],
             [
              0.5555555555555556,
              "#d8576b"
             ],
             [
              0.6666666666666666,
              "#ed7953"
             ],
             [
              0.7777777777777778,
              "#fb9f3a"
             ],
             [
              0.8888888888888888,
              "#fdca26"
             ],
             [
              1,
              "#f0f921"
             ]
            ],
            "type": "surface"
           }
          ],
          "table": [
           {
            "cells": {
             "fill": {
              "color": "#EBF0F8"
             },
             "line": {
              "color": "white"
             }
            },
            "header": {
             "fill": {
              "color": "#C8D4E3"
             },
             "line": {
              "color": "white"
             }
            },
            "type": "table"
           }
          ]
         },
         "layout": {
          "annotationdefaults": {
           "arrowcolor": "#2a3f5f",
           "arrowhead": 0,
           "arrowwidth": 1
          },
          "autotypenumbers": "strict",
          "coloraxis": {
           "colorbar": {
            "outlinewidth": 0,
            "ticks": ""
           }
          },
          "colorscale": {
           "diverging": [
            [
             0,
             "#8e0152"
            ],
            [
             0.1,
             "#c51b7d"
            ],
            [
             0.2,
             "#de77ae"
            ],
            [
             0.3,
             "#f1b6da"
            ],
            [
             0.4,
             "#fde0ef"
            ],
            [
             0.5,
             "#f7f7f7"
            ],
            [
             0.6,
             "#e6f5d0"
            ],
            [
             0.7,
             "#b8e186"
            ],
            [
             0.8,
             "#7fbc41"
            ],
            [
             0.9,
             "#4d9221"
            ],
            [
             1,
             "#276419"
            ]
           ],
           "sequential": [
            [
             0,
             "#0d0887"
            ],
            [
             0.1111111111111111,
             "#46039f"
            ],
            [
             0.2222222222222222,
             "#7201a8"
            ],
            [
             0.3333333333333333,
             "#9c179e"
            ],
            [
             0.4444444444444444,
             "#bd3786"
            ],
            [
             0.5555555555555556,
             "#d8576b"
            ],
            [
             0.6666666666666666,
             "#ed7953"
            ],
            [
             0.7777777777777778,
             "#fb9f3a"
            ],
            [
             0.8888888888888888,
             "#fdca26"
            ],
            [
             1,
             "#f0f921"
            ]
           ],
           "sequentialminus": [
            [
             0,
             "#0d0887"
            ],
            [
             0.1111111111111111,
             "#46039f"
            ],
            [
             0.2222222222222222,
             "#7201a8"
            ],
            [
             0.3333333333333333,
             "#9c179e"
            ],
            [
             0.4444444444444444,
             "#bd3786"
            ],
            [
             0.5555555555555556,
             "#d8576b"
            ],
            [
             0.6666666666666666,
             "#ed7953"
            ],
            [
             0.7777777777777778,
             "#fb9f3a"
            ],
            [
             0.8888888888888888,
             "#fdca26"
            ],
            [
             1,
             "#f0f921"
            ]
           ]
          },
          "colorway": [
           "#636efa",
           "#EF553B",
           "#00cc96",
           "#ab63fa",
           "#FFA15A",
           "#19d3f3",
           "#FF6692",
           "#B6E880",
           "#FF97FF",
           "#FECB52"
          ],
          "font": {
           "color": "#2a3f5f"
          },
          "geo": {
           "bgcolor": "white",
           "lakecolor": "white",
           "landcolor": "#E5ECF6",
           "showlakes": true,
           "showland": true,
           "subunitcolor": "white"
          },
          "hoverlabel": {
           "align": "left"
          },
          "hovermode": "closest",
          "mapbox": {
           "style": "light"
          },
          "paper_bgcolor": "white",
          "plot_bgcolor": "#E5ECF6",
          "polar": {
           "angularaxis": {
            "gridcolor": "white",
            "linecolor": "white",
            "ticks": ""
           },
           "bgcolor": "#E5ECF6",
           "radialaxis": {
            "gridcolor": "white",
            "linecolor": "white",
            "ticks": ""
           }
          },
          "scene": {
           "xaxis": {
            "backgroundcolor": "#E5ECF6",
            "gridcolor": "white",
            "gridwidth": 2,
            "linecolor": "white",
            "showbackground": true,
            "ticks": "",
            "zerolinecolor": "white"
           },
           "yaxis": {
            "backgroundcolor": "#E5ECF6",
            "gridcolor": "white",
            "gridwidth": 2,
            "linecolor": "white",
            "showbackground": true,
            "ticks": "",
            "zerolinecolor": "white"
           },
           "zaxis": {
            "backgroundcolor": "#E5ECF6",
            "gridcolor": "white",
            "gridwidth": 2,
            "linecolor": "white",
            "showbackground": true,
            "ticks": "",
            "zerolinecolor": "white"
           }
          },
          "shapedefaults": {
           "line": {
            "color": "#2a3f5f"
           }
          },
          "ternary": {
           "aaxis": {
            "gridcolor": "white",
            "linecolor": "white",
            "ticks": ""
           },
           "baxis": {
            "gridcolor": "white",
            "linecolor": "white",
            "ticks": ""
           },
           "bgcolor": "#E5ECF6",
           "caxis": {
            "gridcolor": "white",
            "linecolor": "white",
            "ticks": ""
           }
          },
          "title": {
           "x": 0.05
          },
          "xaxis": {
           "automargin": true,
           "gridcolor": "white",
           "linecolor": "white",
           "ticks": "",
           "title": {
            "standoff": 15
           },
           "zerolinecolor": "white",
           "zerolinewidth": 2
          },
          "yaxis": {
           "automargin": true,
           "gridcolor": "white",
           "linecolor": "white",
           "ticks": "",
           "title": {
            "standoff": 15
           },
           "zerolinecolor": "white",
           "zerolinewidth": 2
          }
         }
        },
        "title": {
         "text": "3D Scatter Plot"
        }
       }
      },
      "image/png": "[encoded data removed]"
     },
     "metadata": {},
     "output_type": "display_data"
    }
   ],
   "source": [
    "#13. Create a 3D scatter plot using Plotly.\n",
    "\n",
    "import plotly.express as px\n",
    "import pandas as pd\n",
    "\n",
    "# Create a sample DataFrame with 3 columns for 3D coordinates\n",
    "data = {\n",
    "    'X': [1, 2, 3, 4, 5],\n",
    "    'Y': [10, 11, 12, 13, 14],\n",
    "    'Z': [20, 21, 22, 23, 24]\n",
    "}\n",
    "\n",
    "df = pd.DataFrame(data)\n",
    "\n",
    "# Create a 3D scatter plot\n",
    "fig = px.scatter_3d(df, x='X', y='Y', z='Z', title='3D Scatter Plot')\n",
    "\n",
    "# Show the plot\n",
    "fig.show()"
   ]
  },
  {
   "cell_type": "code",
   "execution_count": null,
   "id": "41fd9f67-f6c2-431f-8f5a-1cd4fc7c0465",
   "metadata": {},
   "outputs": [],
   "source": []
  }
 ],
 "metadata": {
  "kernelspec": {
   "display_name": "Python 3 (ipykernel)",
   "language": "python",
   "name": "python3"
  },
  "language_info": {
   "codemirror_mode": {
    "name": "ipython",
    "version": 3
   },
   "file_extension": ".py",
   "mimetype": "text/x-python",
   "name": "python",
   "nbconvert_exporter": "python",
   "pygments_lexer": "ipython3",
   "version": "3.13.2"
  }
 },
 "nbformat": 4,
 "nbformat_minor": 5
}
